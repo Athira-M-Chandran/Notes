{
 "cells": [
  {
   "cell_type": "markdown",
   "metadata": {},
   "source": [
    "# <p style='text-align: center;'> PYTHON </p>"
   ]
  },
  {
   "cell_type": "markdown",
   "metadata": {},
   "source": [
    " Python is a full-spectrum language.\n",
    "    \n",
    "    # Eg for Python code:\n",
    "    print(\"Hello world!\")"
   ]
  },
  {
   "cell_type": "markdown",
   "metadata": {},
   "source": [
    "## Variables\n",
    "Variables are names that can be assigned a value and used\n",
    "to reference that value throughout your code.\n",
    "\n",
    "Variable names are **case-sensitive**"
   ]
  },
  {
   "cell_type": "markdown",
   "metadata": {},
   "source": [
    "#### Variable declaration\n",
    "\n",
    "- Variable names can only contain uppercase and lowercase letters (A–Z, a–z), digits (0–9), and underscores ( _ ) . However, variable names cannot begin with a digit\n",
    "\n",
    "- Descriptive Names Are Better Than Short Names\n",
    "\n",
    "- write variable names in snake case like num_students and list_of_names. Every letter is lower\u0002case, and each word is separated by an underscore"
   ]
  },
  {
   "cell_type": "code",
   "execution_count": 1,
   "metadata": {},
   "outputs": [],
   "source": [
    "\n",
    "a = 5         # = called the assignment operator.\n",
    "b = 'city' "
   ]
  },
  {
   "cell_type": "markdown",
   "metadata": {},
   "source": [
    "#### Type of variable"
   ]
  },
  {
   "cell_type": "code",
   "execution_count": 2,
   "metadata": {},
   "outputs": [
    {
     "data": {
      "text/plain": [
       "int"
      ]
     },
     "execution_count": 2,
     "metadata": {},
     "output_type": "execute_result"
    }
   ],
   "source": [
    "type(a) \n"
   ]
  },
  {
   "cell_type": "code",
   "execution_count": 3,
   "metadata": {},
   "outputs": [
    {
     "data": {
      "text/plain": [
       "str"
      ]
     },
     "execution_count": 3,
     "metadata": {},
     "output_type": "execute_result"
    }
   ],
   "source": [
    "type(b)"
   ]
  },
  {
   "cell_type": "code",
   "execution_count": 5,
   "metadata": {},
   "outputs": [],
   "source": [
    "# swap the values of a and b\n",
    "c = a\n",
    "a = b\n",
    "b = c"
   ]
  },
  {
   "cell_type": "markdown",
   "metadata": {},
   "source": [
    "#### F-string printing"
   ]
  },
  {
   "cell_type": "code",
   "execution_count": 6,
   "metadata": {},
   "outputs": [
    {
     "name": "stdout",
     "output_type": "stream",
     "text": [
      "a = city , b = 5\n"
     ]
    }
   ],
   "source": [
    "# run this to confirm \n",
    "print(f\"a = {a} , b = {b}\")"
   ]
  },
  {
   "cell_type": "markdown",
   "metadata": {},
   "source": [
    "## Arithmetic Operations"
   ]
  },
  {
   "cell_type": "code",
   "execution_count": 7,
   "metadata": {},
   "outputs": [
    {
     "name": "stdout",
     "output_type": "stream",
     "text": [
      "a = 24, b = 3\n"
     ]
    }
   ],
   "source": [
    "# declare two variables, a = 24, b = 3\n",
    "\n",
    "a = 24\n",
    "b = 3\n",
    "print('a = {0}, b = {1}'.format(a,b))"
   ]
  },
  {
   "cell_type": "code",
   "execution_count": 9,
   "metadata": {},
   "outputs": [
    {
     "name": "stdout",
     "output_type": "stream",
     "text": [
      "a + b = 27\n",
      "a - b = 21\n",
      "a * b = 72\n",
      "a / b = 8.0\n",
      "a % b = 0\n",
      "a // b = 8\n",
      "a ^ b = 13824\n"
     ]
    }
   ],
   "source": [
    "# calculate and print all the possible numerical operations on a and b (There are total 7 operations)\n",
    "print(f\"a + b = {a+b}\")\n",
    "print(f\"a - b = {a-b}\")\n",
    "print(f\"a * b = {a*b}\")\n",
    "print(f\"a / b = {a/b}\")\n",
    "print(f\"a % b = {a%b}\")\n",
    "print(f\"a // b = {a//b}\")\n",
    "print(f\"a ^ b = {a ** b}\")\n"
   ]
  },
  {
   "cell_type": "markdown",
   "metadata": {},
   "source": [
    "## Math Functions\n",
    "\n",
    "built-in functions\n",
    "\n",
    "    - round(), for rounding numbers to some number of decimal places\n",
    "    - abs(), for getting the absolute value of a numbe\n",
    "    - pow(), for raising a number to some power\n",
    "    "
   ]
  },
  {
   "cell_type": "markdown",
   "metadata": {},
   "source": [
    "Math module contains various mathematical functions.\n"
   ]
  },
  {
   "cell_type": "code",
   "execution_count": 11,
   "metadata": {},
   "outputs": [],
   "source": [
    "#import math\n",
    "import math"
   ]
  },
  {
   "cell_type": "code",
   "execution_count": null,
   "metadata": {},
   "outputs": [],
   "source": [
    "# declare a variable x = 2 and y=5.32167\n",
    "x = 2\n",
    "y = 5.32167"
   ]
  },
  {
   "cell_type": "code",
   "execution_count": 13,
   "metadata": {},
   "outputs": [
    {
     "data": {
      "text/plain": [
       "5.32167"
      ]
     },
     "execution_count": 13,
     "metadata": {},
     "output_type": "execute_result"
    }
   ],
   "source": [
    "# Print the maximum value between x and y\n",
    "max(x,y)"
   ]
  },
  {
   "cell_type": "code",
   "execution_count": 14,
   "metadata": {},
   "outputs": [
    {
     "data": {
      "text/plain": [
       "2"
      ]
     },
     "execution_count": 14,
     "metadata": {},
     "output_type": "execute_result"
    }
   ],
   "source": [
    "# Print the minimum value between x and y\n",
    "min(x,y)"
   ]
  },
  {
   "cell_type": "code",
   "execution_count": 15,
   "metadata": {},
   "outputs": [
    {
     "name": "stdout",
     "output_type": "stream",
     "text": [
      "4\n",
      "8\n"
     ]
    }
   ],
   "source": [
    "# Print square and cube of x and store in a and b variable\n",
    "a = int(math.pow(x,2))\n",
    "b = int(math.pow(x,3))\n",
    "print(f\"{a}\\n{b}\")"
   ]
  },
  {
   "cell_type": "code",
   "execution_count": 16,
   "metadata": {},
   "outputs": [
    {
     "name": "stdout",
     "output_type": "stream",
     "text": [
      "0.6931471805599453\n"
     ]
    }
   ],
   "source": [
    "#print log of x and store it in variable c\n",
    "c = math.log(x)\n",
    "print(c)"
   ]
  },
  {
   "cell_type": "code",
   "execution_count": 17,
   "metadata": {},
   "outputs": [
    {
     "data": {
      "text/plain": [
       "0.6931471805599453"
      ]
     },
     "execution_count": 17,
     "metadata": {},
     "output_type": "execute_result"
    }
   ],
   "source": [
    "#print minimum value between x,y,a, b and c\n",
    "min(x,y,a,b,c)"
   ]
  },
  {
   "cell_type": "code",
   "execution_count": 18,
   "metadata": {},
   "outputs": [
    {
     "data": {
      "text/plain": [
       "8"
      ]
     },
     "execution_count": 18,
     "metadata": {},
     "output_type": "execute_result"
    }
   ],
   "source": [
    "#print maximum value between x,y,a, b and c\n",
    "max(x,y,a,b,c)"
   ]
  },
  {
   "cell_type": "code",
   "execution_count": 19,
   "metadata": {},
   "outputs": [
    {
     "data": {
      "text/plain": [
       "0"
      ]
     },
     "execution_count": 19,
     "metadata": {},
     "output_type": "execute_result"
    }
   ],
   "source": [
    "#print the largest integer that is smaller than or equal to c. ie.round down\n",
    "math.floor(c)"
   ]
  },
  {
   "cell_type": "code",
   "execution_count": 20,
   "metadata": {},
   "outputs": [
    {
     "data": {
      "text/plain": [
       "1"
      ]
     },
     "execution_count": 20,
     "metadata": {},
     "output_type": "execute_result"
    }
   ],
   "source": [
    "#print the smallest integer that is greater than or equal to c ie. round up\n",
    "math.ceil(c)"
   ]
  },
  {
   "cell_type": "markdown",
   "metadata": {},
   "source": [
    "## Logical operations\n",
    "\n"
   ]
  },
  {
   "cell_type": "code",
   "execution_count": 23,
   "metadata": {},
   "outputs": [
    {
     "name": "stdout",
     "output_type": "stream",
     "text": [
      "True\n",
      "False\n"
     ]
    }
   ],
   "source": [
    "# declare two variables, a = True, b = False\n",
    "a = True #your code here\n",
    "b = False #your code here\n",
    "print(f\"{a}\\n{b}\")"
   ]
  },
  {
   "cell_type": "code",
   "execution_count": 24,
   "metadata": {},
   "outputs": [
    {
     "name": "stdout",
     "output_type": "stream",
     "text": [
      "<class 'bool'>\n",
      "<class 'bool'>\n"
     ]
    }
   ],
   "source": [
    "# print type of a and type of b\n",
    "print(f\"{type(a)}\\n{type(b)}\")"
   ]
  },
  {
   "cell_type": "markdown",
   "metadata": {},
   "source": [
    "\n",
    "The Python Boolean type is one of Python's built-in data types. It's used to represent the truth value of an expression"
   ]
  },
  {
   "cell_type": "code",
   "execution_count": 25,
   "metadata": {},
   "outputs": [
    {
     "name": "stdout",
     "output_type": "stream",
     "text": [
      "int of a is 1\n",
      "int of b is 0\n"
     ]
    }
   ],
   "source": [
    "# print int(a) and int(b)\n",
    "print(f\"int of a is {int(a)}\\nint of b is {int(b)}\")\n"
   ]
  },
  {
   "cell_type": "markdown",
   "metadata": {},
   "source": [
    "We are sure you must have seen that, values for 'True' is 1 and for 'False' is 0."
   ]
  },
  {
   "cell_type": "code",
   "execution_count": 26,
   "metadata": {},
   "outputs": [
    {
     "name": "stdout",
     "output_type": "stream",
     "text": [
      "not a = False\n",
      "not b = True\n",
      "a and b = False\n",
      "a or b = True\n",
      "a and not b = True\n"
     ]
    }
   ],
   "source": [
    "# Find and print the values of not a, not b, a and b, a or b, a and not b\n",
    "print(f\"not a = {not(a)}\")\n",
    "print(f\"not b = {not(b)}\")\n",
    "print(f\"a and b = {a and b}\")\n",
    "print(f\"a or b = {a or b}\")\n",
    "print(f\"a and not b = {a and (not b)}\")"
   ]
  },
  {
   "cell_type": "markdown",
   "metadata": {},
   "source": [
    "## List Comprehensions\n"
   ]
  },
  {
   "cell_type": "code",
   "execution_count": 27,
   "metadata": {},
   "outputs": [
    {
     "data": {
      "text/plain": [
       "[1, 2, 3, 4, 5, 6, 7, 8, 9, 10, 11, 12, 13, 14, 15, 16, 17, 18, 19, 20]"
      ]
     },
     "execution_count": 27,
     "metadata": {},
     "output_type": "execute_result"
    }
   ],
   "source": [
    "# Using list comprehension, create a list containing numbers from 1 to 20. \n",
    "# Hint: You can use range function of python to do this.\n",
    "\n",
    "# print([*range(1,21)])\n",
    "print([x for x in range(1,21)])"
   ]
  },
  {
   "cell_type": "code",
   "execution_count": 28,
   "metadata": {},
   "outputs": [
    {
     "data": {
      "text/plain": [
       "[2, 4, 6, 8, 10, 12, 14, 16, 18, 20]"
      ]
     },
     "execution_count": 28,
     "metadata": {},
     "output_type": "execute_result"
    }
   ],
   "source": [
    "# Using list comprehension, create a list containing numbers from 1 to 20 that are even\n",
    "[x for x in range(1,21) if (x%2==0)]\n"
   ]
  },
  {
   "cell_type": "markdown",
   "metadata": {},
   "source": [
    "Create a list of all the fruits you like. Using list comprehension, create another list which contains the total number of charachters for each corresponding fruits.\n",
    "- Eg. fruits = [‘apple’,’kiwi’,’orange’], then output would be - [5,4,6]\n"
   ]
  },
  {
   "cell_type": "code",
   "execution_count": 29,
   "metadata": {},
   "outputs": [
    {
     "name": "stdout",
     "output_type": "stream",
     "text": [
      "['apple', 'kiwi', 'orange']\n",
      "[5, 4, 6]\n"
     ]
    }
   ],
   "source": [
    "fruits = ['apple', 'kiwi', 'orange'] # your code here (create a list of your favourite fruits)\n",
    "len_fruits = [len(fruits[0]), len(fruits[1]), len(fruits[2])] # your code here\n",
    "\n",
    "print(fruits)\n",
    "print(len_fruits)"
   ]
  },
  {
   "cell_type": "markdown",
   "metadata": {},
   "source": [
    "The above output is shown if fruits = ['apple','kiwi,'orange'], it can vary for different values of fruits\n",
    "\n",
    "\n"
   ]
  },
  {
   "cell_type": "markdown",
   "metadata": {},
   "source": [
    "## String value and operators\n",
    "\n",
    "1. Strings contains characters, which are individual letters or symbols.\n",
    "2. Strings have a length, which is the number of characters contained in the string.\n",
    "3. Characters in a string appear in a sequence, meaning each character has a numbered position in the string\n",
    "\n",
    "The quotes surrounding a string are called **delimiters** because they tell Python where a string begins and where it ends. \n",
    "\n",
    "When one type of quotes is used as the delimiter, the other type of quote can be used inside of the string\n",
    "\n",
    "When used to document code, triple-quoted strings are called\n",
    "**docstrings**.\n",
    "\n",
    "Strings are **immutable**, which means that you can’t change\n",
    "them once you’ve created them. "
   ]
  },
  {
   "cell_type": "markdown",
   "metadata": {},
   "source": [
    "### Characters in strings\n"
   ]
  },
  {
   "cell_type": "code",
   "execution_count": 30,
   "metadata": {},
   "outputs": [
    {
     "name": "stdout",
     "output_type": "stream",
     "text": [
      "cat\n",
      "dog\n"
     ]
    }
   ],
   "source": [
    "# declare the variables x = cat and y = dog and print it\n",
    "x =  'cat' #your code here\n",
    "y = 'dog' #your code here\n",
    "\n",
    "print(x)\n",
    "print(y)"
   ]
  },
  {
   "cell_type": "markdown",
   "metadata": {},
   "source": [
    "### Concatenation\n",
    " Concatenation, which joins two strings together"
   ]
  },
  {
   "cell_type": "code",
   "execution_count": 2,
   "metadata": {},
   "outputs": [
    {
     "name": "stdout",
     "output_type": "stream",
     "text": [
      "cat dog\n"
     ]
    }
   ],
   "source": [
    "x =  'cat' \n",
    "y = 'dog'\n",
    "\n",
    "print(x + ' ' +y)\n"
   ]
  },
  {
   "cell_type": "markdown",
   "metadata": {},
   "source": [
    "### Indexing\n",
    "\n",
    " Indexing, which gets an single character from a string"
   ]
  },
  {
   "cell_type": "code",
   "execution_count": 31,
   "metadata": {},
   "outputs": [
    {
     "name": "stdout",
     "output_type": "stream",
     "text": [
      "First ch of x = c\n",
      "First ch of y = d\n"
     ]
    }
   ],
   "source": [
    "#Print first character of both x and y. \n",
    "print(f\"First ch of x = {x[0]}\")\n",
    "print(f\"First ch of y = {y[0]}\")"
   ]
  },
  {
   "cell_type": "code",
   "execution_count": 32,
   "metadata": {},
   "outputs": [
    {
     "name": "stdout",
     "output_type": "stream",
     "text": [
      "Last ch of x = t\n",
      "Last ch of y = g\n"
     ]
    }
   ],
   "source": [
    "#Print last character of both x and y.\n",
    "print(f\"Last ch of x = {x[-1]}\")\n",
    "print(f\"Last ch of y = {y[-1]}\")"
   ]
  },
  {
   "cell_type": "code",
   "execution_count": 33,
   "metadata": {},
   "outputs": [
    {
     "name": "stdout",
     "output_type": "stream",
     "text": [
      "Length of x is 3\n",
      "Length of y is 3\n"
     ]
    }
   ],
   "source": [
    "#Print len of both x and y\n",
    "print(f\"Length of x is {len(x)}\")\n",
    "print(f\"Length of y is {len(y)}\")"
   ]
  },
  {
   "cell_type": "code",
   "execution_count": 34,
   "metadata": {},
   "outputs": [],
   "source": [
    "#concatenate both x and y and store it in variable z and print z\n",
    "z = x+y"
   ]
  },
  {
   "cell_type": "code",
   "execution_count": 35,
   "metadata": {},
   "outputs": [
    {
     "data": {
      "text/plain": [
       "True"
      ]
     },
     "execution_count": 35,
     "metadata": {},
     "output_type": "execute_result"
    }
   ],
   "source": [
    "#check if x is part of z \n",
    "x in z"
   ]
  },
  {
   "cell_type": "markdown",
   "metadata": {},
   "source": [
    "### String slicing\n",
    "\n",
    "Slicing, which gets several characters from a string at once"
   ]
  },
  {
   "cell_type": "code",
   "execution_count": 36,
   "metadata": {},
   "outputs": [
    {
     "name": "stdout",
     "output_type": "stream",
     "text": [
      "pineapple\n"
     ]
    }
   ],
   "source": [
    "#Create variable a = “pineapple”\n",
    "a = 'pineapple' # your code here\n",
    "print(a)"
   ]
  },
  {
   "cell_type": "code",
   "execution_count": 37,
   "metadata": {},
   "outputs": [
    {
     "name": "stdout",
     "output_type": "stream",
     "text": [
      "pine\n",
      "apple\n"
     ]
    }
   ],
   "source": [
    "# Using index slicing, print the words ‘pine’ and “apple”.\n",
    "# HINT - a[:]\n",
    "print(a[0:4])\n",
    "print(a[4:9])"
   ]
  },
  {
   "cell_type": "code",
   "execution_count": 38,
   "metadata": {},
   "outputs": [
    {
     "data": {
      "text/plain": [
       "'PINEAPPLE'"
      ]
     },
     "execution_count": 38,
     "metadata": {},
     "output_type": "execute_result"
    }
   ],
   "source": [
    "#Convert a into upper case\n",
    "a.upper()\n"
   ]
  },
  {
   "cell_type": "markdown",
   "metadata": {},
   "source": [
    "## Manipulate Strings With Methods.\n",
    "\n",
    "Converting String Case - \n",
    "\n",
    "    - string.lower()\n",
    "    - string.upper()\n",
    "    \n",
    "Length of string using **len()**\n",
    "\n",
    "White space removal:\n",
    "    \n",
    "    - 1. rstrip()\n",
    "    - 2. lstrip()\n",
    "    - 3. strip()\n"
   ]
  },
  {
   "cell_type": "code",
   "execution_count": 39,
   "metadata": {},
   "outputs": [
    {
     "name": "stdout",
     "output_type": "stream",
     "text": [
      "I am flying to London\n"
     ]
    }
   ],
   "source": [
    "# Declare a sentence of ‘I am flying to London’ and print it\n",
    "sentence = 'I am flying to London'\n",
    "print(sentence)"
   ]
  },
  {
   "cell_type": "code",
   "execution_count": 40,
   "metadata": {},
   "outputs": [
    {
     "name": "stdout",
     "output_type": "stream",
     "text": [
      "Len of sentence is 21\n"
     ]
    }
   ],
   "source": [
    "#Print length of the sentence\n",
    "print(f\"Len of sentence is {len(sentence)}\")"
   ]
  },
  {
   "cell_type": "code",
   "execution_count": 42,
   "metadata": {},
   "outputs": [
    {
     "data": {
      "text/plain": [
       "'London'"
      ]
     },
     "execution_count": 42,
     "metadata": {},
     "output_type": "execute_result"
    }
   ],
   "source": [
    "#Using list indexing, to print the word London\n",
    "new_sent = sentence.split(' ')\n",
    "new_sent[-1]\n"
   ]
  },
  {
   "cell_type": "code",
   "execution_count": 43,
   "metadata": {},
   "outputs": [
    {
     "data": {
      "text/plain": [
       "['I', 'am', 'flying', 'to', 'London']"
      ]
     },
     "execution_count": 43,
     "metadata": {},
     "output_type": "execute_result"
    }
   ],
   "source": [
    "# Use .split to get list of individual words in the sentence\n",
    "sentence.split(' ')"
   ]
  },
  {
   "cell_type": "code",
   "execution_count": 44,
   "metadata": {},
   "outputs": [
    {
     "data": {
      "text/plain": [
       "'i am flying to london'"
      ]
     },
     "execution_count": 44,
     "metadata": {},
     "output_type": "execute_result"
    }
   ],
   "source": [
    "# Convert sentence in lower case \n",
    "sentence.lower()"
   ]
  },
  {
   "cell_type": "code",
   "execution_count": 45,
   "metadata": {},
   "outputs": [
    {
     "data": {
      "text/plain": [
       "'I AM FLYING TO LONDON'"
      ]
     },
     "execution_count": 45,
     "metadata": {},
     "output_type": "execute_result"
    }
   ],
   "source": [
    "# Convert sentence in upper case .\n",
    "sentence.upper()"
   ]
  },
  {
   "cell_type": "markdown",
   "metadata": {},
   "source": [
    "####  .startswith() and .endswith()"
   ]
  },
  {
   "cell_type": "code",
   "execution_count": 4,
   "metadata": {},
   "outputs": [
    {
     "name": "stdout",
     "output_type": "stream",
     "text": [
      "False\n",
      "True\n"
     ]
    }
   ],
   "source": [
    "starship = \"Enterprise\"\n",
    "print(starship.startswith(\"en\"))\n",
    "print(starship.startswith(\"En\"))\n"
   ]
  },
  {
   "cell_type": "code",
   "execution_count": 5,
   "metadata": {},
   "outputs": [
    {
     "data": {
      "text/plain": [
       "True"
      ]
     },
     "execution_count": 5,
     "metadata": {},
     "output_type": "execute_result"
    }
   ],
   "source": [
    "starship.endswith(\"rise\")"
   ]
  },
  {
   "cell_type": "markdown",
   "metadata": {},
   "source": [
    "## Functions\n",
    "\n",
    "One of the most important properties of a function in Python is that **functions are values and can be assigned to a variable.**\n",
    "\n",
    "The process for executing a function can be summarized in three\n",
    "steps:\n",
    "   - 1. The function is called, and any arguments are passed to the function as input.\n",
    "   - 2. The function executes, and some action is performed with the arguments.\n",
    "   - 3. The function returns, and the original function call is replaced with the return value.\n",
    "   \n",
    "### The Anatomy of a Function\n",
    "\n",
    "Every function has two parts:\n",
    "\n",
    "    - 1. The function signature defines the name of the function and any inputs it expects.\n",
    "    - 2. The function body contains the code that runs every time the function is used.\n",
    "\n",
    "Let’s start by writing a function that takes two numbers as input and returns their product. Here’s what this function might look like, with **the signature**, **body**, and **return** statement identified with comments:\n",
    "\n",
    "    def multiply(x, y): # Function signature\n",
    "\n",
    "        # Function body\n",
    "        product = x * y\n",
    "        return product\n",
    "\n",
    "Declare a function named square, which takes an input as x, and returns the square of x.\n",
    "\n"
   ]
  },
  {
   "cell_type": "code",
   "execution_count": 9,
   "metadata": {},
   "outputs": [],
   "source": [
    "def square(x): #An argument is a value that gets passed to the function as input. here x is an argument\n",
    "    sq = x*x\n",
    "    return sq  "
   ]
  },
  {
   "cell_type": "markdown",
   "metadata": {},
   "source": [
    "Call the function to find the value of square of 9."
   ]
  },
  {
   "cell_type": "code",
   "execution_count": 47,
   "metadata": {},
   "outputs": [
    {
     "name": "stdout",
     "output_type": "stream",
     "text": [
      "Square of 9 is 81\n"
     ]
    }
   ],
   "source": [
    "# find the square of 9 using the function square you have just created.\n",
    "\n",
    "num = square(9) \n",
    "\n",
    "print(f\"Square of 9 is {num}\")"
   ]
  },
  {
   "cell_type": "markdown",
   "metadata": {},
   "source": [
    "#### Define another function which checks whether a given is number is odd or even for a given input and it should print whether the  number is odd or even as an output\n"
   ]
  },
  {
   "cell_type": "code",
   "execution_count": 10,
   "metadata": {},
   "outputs": [],
   "source": [
    "\n",
    "def check_num(num_to_square):\n",
    "    if(num_to_square % 2 == 0):\n",
    "        return print(f\" Square of {num_to_check} is even\")\n",
    "    else:\n",
    "        return print(f\" Square of {num_to_check} is odd\")\n",
    "    \n"
   ]
  },
  {
   "cell_type": "markdown",
   "metadata": {},
   "source": [
    "use both the functions together to check whether the square of 3,6 and 21 are odd or even.\n"
   ]
  },
  {
   "cell_type": "code",
   "execution_count": 11,
   "metadata": {},
   "outputs": [
    {
     "name": "stdout",
     "output_type": "stream",
     "text": [
      "Enter a number : 3\n",
      " Square of 3 is odd\n"
     ]
    }
   ],
   "source": [
    "\n",
    "num_to_check = int(input(\"Enter a number : \"))\n",
    "num_to_square = square(num_to_check)\n",
    "check = check_num(num_to_square)"
   ]
  },
  {
   "cell_type": "markdown",
   "metadata": {},
   "source": [
    "## Loops and Iterations\n",
    "A loop is a block of code that gets repeated over and over again either a specified number of times or until some condition is met. \n",
    "\n",
    "There are two kinds of loops in Python: **while loops** and **for loops.**"
   ]
  },
  {
   "cell_type": "markdown",
   "metadata": {},
   "source": [
    "### If statement\n",
    "\n"
   ]
  },
  {
   "cell_type": "code",
   "execution_count": 4,
   "metadata": {},
   "outputs": [
    {
     "name": "stdout",
     "output_type": "stream",
     "text": [
      "7\n"
     ]
    }
   ],
   "source": [
    "#Declare a variable x equal to a number of your choice.\n",
    "#your code here\n",
    "x =  7 # add a number of your choice (mine is 3 :) )\n",
    "print(x)"
   ]
  },
  {
   "cell_type": "code",
   "execution_count": 5,
   "metadata": {},
   "outputs": [
    {
     "name": "stdout",
     "output_type": "stream",
     "text": [
      "7 is positive\n"
     ]
    }
   ],
   "source": [
    "#Using an if statement, print whether x is zero, positive or negative.\n",
    "if(x > 0):\n",
    "    print(f\"{x} is positive\")\n",
    "elif(x <0):\n",
    "    print(f\"{x} is negative\")\n",
    "else:\n",
    "    print(f\"{x} is zero\")\n"
   ]
  },
  {
   "cell_type": "code",
   "execution_count": 6,
   "metadata": {},
   "outputs": [
    {
     "name": "stdout",
     "output_type": "stream",
     "text": [
      "Enter a number : -67\n",
      "-67 is negative\n"
     ]
    }
   ],
   "source": [
    "# Now Define a function, which takes input from the user and prints whether the given input is zero,positive or negative.\n",
    "\n",
    "\n",
    "def check_num(value):\n",
    "    if(value > 0):\n",
    "        print(f\"{value} is positive\")\n",
    "    elif(value <0):\n",
    "        print(f\"{value} is negative\")\n",
    "    else:\n",
    "        print(f\"{value} is zero\")\n",
    "        \n",
    "value = int(input(\"Enter a number : \"))\n",
    "check = check_num(value)"
   ]
  },
  {
   "cell_type": "markdown",
   "metadata": {},
   "source": [
    "## For loop\n",
    "\n",
    "A for loop executes a section of code once for each item in a collection of items. The number of times that the code is executed is determined by the number of items in the collection.\n",
    "\n",
    "The for loop has two main parts:\n",
    "\n",
    "    1. The for statement begins with the for keyword, followed by a membership expression, and ends in a colon (:).\n",
    "    2. The loop body contains the code to be executed at each step of the loop, and is indented four spaces"
   ]
  },
  {
   "cell_type": "code",
   "execution_count": 8,
   "metadata": {},
   "outputs": [],
   "source": [
    "#Create a list x, such that it contains the elements - ‘India’, ‘Israel’,’Canada’.\n",
    "x = ['India', 'Israel', 'Canada']\n"
   ]
  },
  {
   "cell_type": "code",
   "execution_count": 9,
   "metadata": {},
   "outputs": [
    {
     "name": "stdout",
     "output_type": "stream",
     "text": [
      "India\n",
      "Israel\n",
      "Canada\n"
     ]
    }
   ],
   "source": [
    "#Using For loop, iterate over the list and print the elements.\n",
    "for countries in x:\n",
    "    print(countries)"
   ]
  },
  {
   "cell_type": "code",
   "execution_count": 10,
   "metadata": {},
   "outputs": [
    {
     "name": "stdout",
     "output_type": "stream",
     "text": [
      " 2 * 2 = 4 \n",
      " 2 * 3 = 6 \n",
      " 2 * 4 = 8 \n",
      " 2 * 5 = 10 \n",
      " 2 * 6 = 12 \n",
      " 2 * 7 = 14 \n",
      " 2 * 8 = 16 \n",
      " 2 * 9 = 18 \n",
      " 2 * 10 = 20 \n"
     ]
    }
   ],
   "source": [
    "# Using For loop, print the table of 2.\n",
    "for x in range(2,11):\n",
    "    print(f\" 2 * {x} = {2 * x} \")"
   ]
  },
  {
   "cell_type": "markdown",
   "metadata": {},
   "source": [
    "For a given list, x = [21, ‘hello,’cream’, 20,19,’village’], using for loop to iterate over the items and using - if statement print the items that are of type int"
   ]
  },
  {
   "cell_type": "code",
   "execution_count": 11,
   "metadata": {},
   "outputs": [
    {
     "name": "stdout",
     "output_type": "stream",
     "text": [
      "[21, 20, 19]\n"
     ]
    }
   ],
   "source": [
    "#code here\n",
    "x = [21, 'hello','cream', 20,19,'village']\n",
    "values = []\n",
    "for val in x:\n",
    "    if(type(val) == int):\n",
    "        values.append(val)\n",
    "print(values)\n"
   ]
  },
  {
   "cell_type": "markdown",
   "metadata": {},
   "source": [
    "Using For loop, lets create a pattern. "
   ]
  },
  {
   "cell_type": "markdown",
   "metadata": {},
   "source": [
    "<p style='text-align: right;'> 10 points </p>\n"
   ]
  },
  {
   "cell_type": "code",
   "execution_count": 12,
   "metadata": {},
   "outputs": [
    {
     "name": "stdout",
     "output_type": "stream",
     "text": [
      "* \n",
      "* * \n",
      "* * * \n",
      "* * * * \n",
      "* * * * * \n"
     ]
    }
   ],
   "source": [
    "# print the following pattern\n",
    "for i in range(0,5):\n",
    "    for j in range(0, i+1):\n",
    "        print(\"*\", end = ' ')\n",
    "    print()"
   ]
  },
  {
   "cell_type": "markdown",
   "metadata": {},
   "source": [
    "## While loop\n",
    "\n",
    "while loops repeat a section of code while some condition is true.\n",
    "\n",
    "There are two parts to every while loop:\n",
    "\n",
    "    - 1. The while statement starts with the while keyword, followed by a test condition, and ends with a colon (:).\n",
    "    - 2. The loop body contains the code that gets repeated at each step of the loop. Each line is indented four spaces"
   ]
  },
  {
   "cell_type": "markdown",
   "metadata": {},
   "source": [
    "- Using while loop make a function that prints all the values between 1 to n. "
   ]
  },
  {
   "cell_type": "code",
   "execution_count": 17,
   "metadata": {},
   "outputs": [],
   "source": [
    "def counter(n):\n",
    "    i = 1\n",
    "    while i <= n:\n",
    "        print(i)\n",
    "        i = i+1   "
   ]
  },
  {
   "cell_type": "code",
   "execution_count": 18,
   "metadata": {},
   "outputs": [
    {
     "name": "stdout",
     "output_type": "stream",
     "text": [
      "1\n",
      "2\n",
      "3\n",
      "4\n",
      "5\n",
      "6\n",
      "7\n",
      "8\n",
      "9\n",
      "10\n"
     ]
    }
   ],
   "source": [
    "counter(10) #this should print numbers from 1 to 10"
   ]
  },
  {
   "cell_type": "markdown",
   "metadata": {},
   "source": [
    "### Write the code for the following, what is the output obtained?\n",
    "- Set a variable flag = True, num = 5\n",
    "- Run a while loop till flag = True\n",
    "- Inside the while loop - \n",
    "    - Increment the value of num by 5\n",
    "    - If value of num is greater then 50, set flag to be False"
   ]
  },
  {
   "cell_type": "code",
   "execution_count": 19,
   "metadata": {},
   "outputs": [
    {
     "name": "stdout",
     "output_type": "stream",
     "text": [
      "5\n",
      "10\n",
      "15\n",
      "20\n",
      "25\n",
      "30\n",
      "35\n",
      "40\n",
      "45\n",
      "50\n"
     ]
    }
   ],
   "source": [
    "\n",
    "flag = True\n",
    "num = 5\n",
    "while flag == True:\n",
    "    print(num)\n",
    "    num = num +5\n",
    "    if(num>50):\n",
    "        flag = False"
   ]
  },
  {
   "cell_type": "markdown",
   "metadata": {},
   "source": [
    "## The LEGB Rule\n",
    "\n",
    "This rule is an acronym for Local, Enclosing, Global,\n",
    "Built-in.\n",
    "\n",
    "**Local (L)**: The local, or current, scope. This could be the body of a\n",
    "function or the top-level scope of a script. It always represents the\n",
    "scope that the Python interpreter is currently working in.\n",
    "\n",
    "**Enclosing (E)**: The enclosing scope. This is the scope one level up\n",
    "from the local scope. If the local scope is an inner function, the enclos\u0002ing scope is the scope of the outer function. If the scope is a top-level\n",
    "function, the enclosing scope is the same as the global scope.\n",
    "\n",
    "**Global (G)**: The global scope, which is the top-most scope in the\n",
    "script. This contains all of the names defined in the script that are\n",
    "not contained in a function body.\n",
    "\n",
    "**Built-in (B)**: The built-in scope contains all of the names, such as\n",
    "keywords, that are built-in to Python. Functions such as round() and\n",
    "abs() are in the built-in scope. Anything that you can use without first\n",
    "defining yourself is contained in the built-in scope.\n"
   ]
  },
  {
   "cell_type": "markdown",
   "metadata": {},
   "source": [
    "###### -------------------------------------------------------------------------------------------------------------------------------------------------------------------------------------------------"
   ]
  }
 ],
 "metadata": {
  "kernelspec": {
   "display_name": "Python 3",
   "language": "python",
   "name": "python3"
  },
  "language_info": {
   "codemirror_mode": {
    "name": "ipython",
    "version": 3
   },
   "file_extension": ".py",
   "mimetype": "text/x-python",
   "name": "python",
   "nbconvert_exporter": "python",
   "pygments_lexer": "ipython3",
   "version": "3.8.8"
  }
 },
 "nbformat": 4,
 "nbformat_minor": 4
}
